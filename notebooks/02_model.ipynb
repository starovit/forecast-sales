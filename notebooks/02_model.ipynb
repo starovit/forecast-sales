{
 "cells": [
  {
   "cell_type": "code",
   "execution_count": 1,
   "id": "1baae911",
   "metadata": {},
   "outputs": [],
   "source": [
    "import pandas as pd\n",
    "from catboost import CatBoostRegressor, Pool\n",
    "from sklearn.metrics import mean_absolute_error\n",
    "\n",
    "from forecast_sales.data_utils import create_full_dataset\n",
    "from forecast_sales.features import mark_holiday_adjacent, add_date_categorical_features"
   ]
  },
  {
   "cell_type": "markdown",
   "id": "4bfcfb43",
   "metadata": {},
   "source": [
    "# 1 Load and Fill data"
   ]
  },
  {
   "cell_type": "code",
   "execution_count": 12,
   "id": "dc658043",
   "metadata": {},
   "outputs": [
    {
     "data": {
      "text/html": [
       "<div>\n",
       "<style scoped>\n",
       "    .dataframe tbody tr th:only-of-type {\n",
       "        vertical-align: middle;\n",
       "    }\n",
       "\n",
       "    .dataframe tbody tr th {\n",
       "        vertical-align: top;\n",
       "    }\n",
       "\n",
       "    .dataframe thead th {\n",
       "        text-align: right;\n",
       "    }\n",
       "</style>\n",
       "<table border=\"1\" class=\"dataframe\">\n",
       "  <thead>\n",
       "    <tr style=\"text-align: right;\">\n",
       "      <th></th>\n",
       "      <th>date</th>\n",
       "      <th>category_id</th>\n",
       "      <th>sku_id</th>\n",
       "      <th>sales_price</th>\n",
       "      <th>sales_quantity</th>\n",
       "    </tr>\n",
       "  </thead>\n",
       "  <tbody>\n",
       "    <tr>\n",
       "      <th>0</th>\n",
       "      <td>2016-11-18</td>\n",
       "      <td>17</td>\n",
       "      <td>415510</td>\n",
       "      <td>23.205</td>\n",
       "      <td>1.0</td>\n",
       "    </tr>\n",
       "    <tr>\n",
       "      <th>1</th>\n",
       "      <td>2016-11-18</td>\n",
       "      <td>17</td>\n",
       "      <td>420009</td>\n",
       "      <td>22.490</td>\n",
       "      <td>2.0</td>\n",
       "    </tr>\n",
       "    <tr>\n",
       "      <th>2</th>\n",
       "      <td>2016-11-18</td>\n",
       "      <td>17</td>\n",
       "      <td>567734</td>\n",
       "      <td>23.205</td>\n",
       "      <td>1.0</td>\n",
       "    </tr>\n",
       "    <tr>\n",
       "      <th>3</th>\n",
       "      <td>2016-11-18</td>\n",
       "      <td>17</td>\n",
       "      <td>556333</td>\n",
       "      <td>32.760</td>\n",
       "      <td>2.0</td>\n",
       "    </tr>\n",
       "    <tr>\n",
       "      <th>4</th>\n",
       "      <td>2016-11-18</td>\n",
       "      <td>7</td>\n",
       "      <td>566241</td>\n",
       "      <td>283.400</td>\n",
       "      <td>1.0</td>\n",
       "    </tr>\n",
       "  </tbody>\n",
       "</table>\n",
       "</div>"
      ],
      "text/plain": [
       "        date  category_id  sku_id  sales_price  sales_quantity\n",
       "0 2016-11-18           17  415510       23.205             1.0\n",
       "1 2016-11-18           17  420009       22.490             2.0\n",
       "2 2016-11-18           17  567734       23.205             1.0\n",
       "3 2016-11-18           17  556333       32.760             2.0\n",
       "4 2016-11-18            7  566241      283.400             1.0"
      ]
     },
     "metadata": {},
     "output_type": "display_data"
    },
    {
     "data": {
      "text/plain": [
       "(226486, 5)"
      ]
     },
     "execution_count": 12,
     "metadata": {},
     "output_type": "execute_result"
    }
   ],
   "source": [
    "df = pd.read_csv(\"../data/raw/df.csv\", index_col=0, parse_dates=['date'])\n",
    "df = df.sort_values('date').reset_index(drop=True)\n",
    "\n",
    "display(df.head())\n",
    "df.shape"
   ]
  },
  {
   "cell_type": "code",
   "execution_count": 13,
   "id": "cd48709b",
   "metadata": {},
   "outputs": [],
   "source": [
    "# df_future = pd.read_csv(\"../data/raw/df_future.csv\", index_col=0, parse_dates=['date'])\n",
    "# df_future\n",
    "# df_future.nunique()"
   ]
  },
  {
   "cell_type": "code",
   "execution_count": 14,
   "id": "69f93da2",
   "metadata": {},
   "outputs": [
    {
     "data": {
      "text/html": [
       "<div>\n",
       "<style scoped>\n",
       "    .dataframe tbody tr th:only-of-type {\n",
       "        vertical-align: middle;\n",
       "    }\n",
       "\n",
       "    .dataframe tbody tr th {\n",
       "        vertical-align: top;\n",
       "    }\n",
       "\n",
       "    .dataframe thead th {\n",
       "        text-align: right;\n",
       "    }\n",
       "</style>\n",
       "<table border=\"1\" class=\"dataframe\">\n",
       "  <thead>\n",
       "    <tr style=\"text-align: right;\">\n",
       "      <th></th>\n",
       "      <th>sku_id</th>\n",
       "      <th>date</th>\n",
       "      <th>category_id</th>\n",
       "      <th>sales_price</th>\n",
       "      <th>sales_quantity</th>\n",
       "      <th>added</th>\n",
       "    </tr>\n",
       "  </thead>\n",
       "  <tbody>\n",
       "    <tr>\n",
       "      <th>0</th>\n",
       "      <td>415510</td>\n",
       "      <td>2016-11-18</td>\n",
       "      <td>17.0</td>\n",
       "      <td>23.205</td>\n",
       "      <td>1.0</td>\n",
       "      <td>False</td>\n",
       "    </tr>\n",
       "    <tr>\n",
       "      <th>1</th>\n",
       "      <td>680322</td>\n",
       "      <td>2016-11-18</td>\n",
       "      <td>17.0</td>\n",
       "      <td>34.710</td>\n",
       "      <td>4.0</td>\n",
       "      <td>False</td>\n",
       "    </tr>\n",
       "    <tr>\n",
       "      <th>2</th>\n",
       "      <td>735757</td>\n",
       "      <td>2016-11-18</td>\n",
       "      <td>7.0</td>\n",
       "      <td>432.900</td>\n",
       "      <td>0.0</td>\n",
       "      <td>True</td>\n",
       "    </tr>\n",
       "    <tr>\n",
       "      <th>3</th>\n",
       "      <td>700392</td>\n",
       "      <td>2016-11-18</td>\n",
       "      <td>17.0</td>\n",
       "      <td>22.750</td>\n",
       "      <td>0.0</td>\n",
       "      <td>True</td>\n",
       "    </tr>\n",
       "    <tr>\n",
       "      <th>4</th>\n",
       "      <td>742356</td>\n",
       "      <td>2016-11-18</td>\n",
       "      <td>7.0</td>\n",
       "      <td>700.700</td>\n",
       "      <td>0.0</td>\n",
       "      <td>True</td>\n",
       "    </tr>\n",
       "  </tbody>\n",
       "</table>\n",
       "</div>"
      ],
      "text/plain": [
       "   sku_id       date  category_id  sales_price  sales_quantity  added\n",
       "0  415510 2016-11-18         17.0       23.205             1.0  False\n",
       "1  680322 2016-11-18         17.0       34.710             4.0  False\n",
       "2  735757 2016-11-18          7.0      432.900             0.0   True\n",
       "3  700392 2016-11-18         17.0       22.750             0.0   True\n",
       "4  742356 2016-11-18          7.0      700.700             0.0   True"
      ]
     },
     "metadata": {},
     "output_type": "display_data"
    },
    {
     "data": {
      "text/plain": [
       "(1529196, 6)"
      ]
     },
     "execution_count": 14,
     "metadata": {},
     "output_type": "execute_result"
    }
   ],
   "source": [
    "# Add zero quantity rows, fill with previos prices\n",
    "df = create_full_dataset(df)\n",
    "\n",
    "display(df.head())\n",
    "df.shape"
   ]
  },
  {
   "cell_type": "markdown",
   "id": "c380923b",
   "metadata": {},
   "source": [
    "# 2 Feature engineering"
   ]
  },
  {
   "cell_type": "code",
   "execution_count": 15,
   "id": "18cef7a5",
   "metadata": {},
   "outputs": [
    {
     "data": {
      "text/html": [
       "<div>\n",
       "<style scoped>\n",
       "    .dataframe tbody tr th:only-of-type {\n",
       "        vertical-align: middle;\n",
       "    }\n",
       "\n",
       "    .dataframe tbody tr th {\n",
       "        vertical-align: top;\n",
       "    }\n",
       "\n",
       "    .dataframe thead th {\n",
       "        text-align: right;\n",
       "    }\n",
       "</style>\n",
       "<table border=\"1\" class=\"dataframe\">\n",
       "  <thead>\n",
       "    <tr style=\"text-align: right;\">\n",
       "      <th></th>\n",
       "      <th>sku_id</th>\n",
       "      <th>date</th>\n",
       "      <th>category_id</th>\n",
       "      <th>sales_price</th>\n",
       "      <th>sales_quantity</th>\n",
       "      <th>added</th>\n",
       "      <th>is_holiday_or_adjacent</th>\n",
       "    </tr>\n",
       "  </thead>\n",
       "  <tbody>\n",
       "    <tr>\n",
       "      <th>0</th>\n",
       "      <td>415510</td>\n",
       "      <td>2016-11-18</td>\n",
       "      <td>17.0</td>\n",
       "      <td>23.205</td>\n",
       "      <td>1.0</td>\n",
       "      <td>False</td>\n",
       "      <td>False</td>\n",
       "    </tr>\n",
       "    <tr>\n",
       "      <th>1</th>\n",
       "      <td>680322</td>\n",
       "      <td>2016-11-18</td>\n",
       "      <td>17.0</td>\n",
       "      <td>34.710</td>\n",
       "      <td>4.0</td>\n",
       "      <td>False</td>\n",
       "      <td>False</td>\n",
       "    </tr>\n",
       "    <tr>\n",
       "      <th>2</th>\n",
       "      <td>735757</td>\n",
       "      <td>2016-11-18</td>\n",
       "      <td>7.0</td>\n",
       "      <td>432.900</td>\n",
       "      <td>0.0</td>\n",
       "      <td>True</td>\n",
       "      <td>False</td>\n",
       "    </tr>\n",
       "    <tr>\n",
       "      <th>3</th>\n",
       "      <td>700392</td>\n",
       "      <td>2016-11-18</td>\n",
       "      <td>17.0</td>\n",
       "      <td>22.750</td>\n",
       "      <td>0.0</td>\n",
       "      <td>True</td>\n",
       "      <td>False</td>\n",
       "    </tr>\n",
       "    <tr>\n",
       "      <th>4</th>\n",
       "      <td>742356</td>\n",
       "      <td>2016-11-18</td>\n",
       "      <td>7.0</td>\n",
       "      <td>700.700</td>\n",
       "      <td>0.0</td>\n",
       "      <td>True</td>\n",
       "      <td>False</td>\n",
       "    </tr>\n",
       "  </tbody>\n",
       "</table>\n",
       "</div>"
      ],
      "text/plain": [
       "   sku_id       date  category_id  sales_price  sales_quantity  added  \\\n",
       "0  415510 2016-11-18         17.0       23.205             1.0  False   \n",
       "1  680322 2016-11-18         17.0       34.710             4.0  False   \n",
       "2  735757 2016-11-18          7.0      432.900             0.0   True   \n",
       "3  700392 2016-11-18         17.0       22.750             0.0   True   \n",
       "4  742356 2016-11-18          7.0      700.700             0.0   True   \n",
       "\n",
       "   is_holiday_or_adjacent  \n",
       "0                   False  \n",
       "1                   False  \n",
       "2                   False  \n",
       "3                   False  \n",
       "4                   False  "
      ]
     },
     "metadata": {},
     "output_type": "display_data"
    },
    {
     "data": {
      "text/plain": [
       "is_holiday_or_adjacent\n",
       "False    0.889197\n",
       "True     0.110803\n",
       "Name: proportion, dtype: float64"
      ]
     },
     "execution_count": 15,
     "metadata": {},
     "output_type": "execute_result"
    }
   ],
   "source": [
    "# Add holdays flag (+-1 day)\n",
    "df = mark_holiday_adjacent(df)\n",
    "\n",
    "display(df.head())\n",
    "df[\"is_holiday_or_adjacent\"].value_counts(normalize=True)"
   ]
  },
  {
   "cell_type": "code",
   "execution_count": 16,
   "id": "255ed514",
   "metadata": {},
   "outputs": [
    {
     "data": {
      "text/html": [
       "<div>\n",
       "<style scoped>\n",
       "    .dataframe tbody tr th:only-of-type {\n",
       "        vertical-align: middle;\n",
       "    }\n",
       "\n",
       "    .dataframe tbody tr th {\n",
       "        vertical-align: top;\n",
       "    }\n",
       "\n",
       "    .dataframe thead th {\n",
       "        text-align: right;\n",
       "    }\n",
       "</style>\n",
       "<table border=\"1\" class=\"dataframe\">\n",
       "  <thead>\n",
       "    <tr style=\"text-align: right;\">\n",
       "      <th></th>\n",
       "      <th>sku_id</th>\n",
       "      <th>date</th>\n",
       "      <th>category_id</th>\n",
       "      <th>sales_price</th>\n",
       "      <th>sales_quantity</th>\n",
       "      <th>added</th>\n",
       "      <th>is_holiday_or_adjacent</th>\n",
       "      <th>dayofweek</th>\n",
       "      <th>month</th>\n",
       "      <th>quarter</th>\n",
       "    </tr>\n",
       "  </thead>\n",
       "  <tbody>\n",
       "    <tr>\n",
       "      <th>0</th>\n",
       "      <td>415510</td>\n",
       "      <td>2016-11-18</td>\n",
       "      <td>17.0</td>\n",
       "      <td>23.205</td>\n",
       "      <td>1.0</td>\n",
       "      <td>False</td>\n",
       "      <td>False</td>\n",
       "      <td>4</td>\n",
       "      <td>11</td>\n",
       "      <td>4</td>\n",
       "    </tr>\n",
       "    <tr>\n",
       "      <th>1</th>\n",
       "      <td>680322</td>\n",
       "      <td>2016-11-18</td>\n",
       "      <td>17.0</td>\n",
       "      <td>34.710</td>\n",
       "      <td>4.0</td>\n",
       "      <td>False</td>\n",
       "      <td>False</td>\n",
       "      <td>4</td>\n",
       "      <td>11</td>\n",
       "      <td>4</td>\n",
       "    </tr>\n",
       "    <tr>\n",
       "      <th>2</th>\n",
       "      <td>735757</td>\n",
       "      <td>2016-11-18</td>\n",
       "      <td>7.0</td>\n",
       "      <td>432.900</td>\n",
       "      <td>0.0</td>\n",
       "      <td>True</td>\n",
       "      <td>False</td>\n",
       "      <td>4</td>\n",
       "      <td>11</td>\n",
       "      <td>4</td>\n",
       "    </tr>\n",
       "    <tr>\n",
       "      <th>3</th>\n",
       "      <td>700392</td>\n",
       "      <td>2016-11-18</td>\n",
       "      <td>17.0</td>\n",
       "      <td>22.750</td>\n",
       "      <td>0.0</td>\n",
       "      <td>True</td>\n",
       "      <td>False</td>\n",
       "      <td>4</td>\n",
       "      <td>11</td>\n",
       "      <td>4</td>\n",
       "    </tr>\n",
       "    <tr>\n",
       "      <th>4</th>\n",
       "      <td>742356</td>\n",
       "      <td>2016-11-18</td>\n",
       "      <td>7.0</td>\n",
       "      <td>700.700</td>\n",
       "      <td>0.0</td>\n",
       "      <td>True</td>\n",
       "      <td>False</td>\n",
       "      <td>4</td>\n",
       "      <td>11</td>\n",
       "      <td>4</td>\n",
       "    </tr>\n",
       "  </tbody>\n",
       "</table>\n",
       "</div>"
      ],
      "text/plain": [
       "   sku_id       date  category_id  sales_price  sales_quantity  added  \\\n",
       "0  415510 2016-11-18         17.0       23.205             1.0  False   \n",
       "1  680322 2016-11-18         17.0       34.710             4.0  False   \n",
       "2  735757 2016-11-18          7.0      432.900             0.0   True   \n",
       "3  700392 2016-11-18         17.0       22.750             0.0   True   \n",
       "4  742356 2016-11-18          7.0      700.700             0.0   True   \n",
       "\n",
       "   is_holiday_or_adjacent dayofweek month quarter  \n",
       "0                   False         4    11       4  \n",
       "1                   False         4    11       4  \n",
       "2                   False         4    11       4  \n",
       "3                   False         4    11       4  \n",
       "4                   False         4    11       4  "
      ]
     },
     "metadata": {},
     "output_type": "display_data"
    }
   ],
   "source": [
    "# Add categorical_features\n",
    "df = add_date_categorical_features(df)\n",
    "\n",
    "display(df.head())"
   ]
  },
  {
   "cell_type": "code",
   "execution_count": 24,
   "id": "2a4522e4",
   "metadata": {},
   "outputs": [],
   "source": [
    "cat_features = [\"is_holiday_or_adjacent\", \"dayofweek\", \"month\", \"quarter\"]"
   ]
  },
  {
   "cell_type": "code",
   "execution_count": 25,
   "id": "f45dd7d1",
   "metadata": {},
   "outputs": [],
   "source": [
    "# Check Numeric\n",
    "df['sales_price'] = df['sales_price'].astype(float)"
   ]
  },
  {
   "cell_type": "code",
   "execution_count": 26,
   "id": "4fee9226",
   "metadata": {},
   "outputs": [],
   "source": [
    "# Lags & rolling stats (per SKU): will be moved to function\n",
    "df = df.sort_values(['sku_id','date'])\n",
    "grp = df.groupby('sku_id')['sales_quantity']\n",
    "df['lag_1']      = grp.shift(14).fillna(0)\n",
    "df['lag_7']      = grp.shift(28).fillna(0)\n",
    "df['roll7_mean'] = grp.shift(1).rolling(14, min_periods=1).mean().fillna(0)"
   ]
  },
  {
   "cell_type": "markdown",
   "id": "7e613387",
   "metadata": {},
   "source": [
    "# 3 Train/Test split"
   ]
  },
  {
   "cell_type": "code",
   "execution_count": 27,
   "id": "82508e6e",
   "metadata": {},
   "outputs": [],
   "source": [
    "cutoff = df['date'].quantile(0.8)\n",
    "train = df[df['date'] <= cutoff].copy()\n",
    "test  = df[df['date'] > cutoff].copy()"
   ]
  },
  {
   "cell_type": "markdown",
   "id": "2d49c073",
   "metadata": {},
   "source": [
    "# 4 Baseline: historical mean"
   ]
  },
  {
   "cell_type": "code",
   "execution_count": 28,
   "id": "cea58e4b",
   "metadata": {},
   "outputs": [
    {
     "ename": "KeyError",
     "evalue": "'sku_mean'",
     "output_type": "error",
     "traceback": [
      "\u001b[31m---------------------------------------------------------------------------\u001b[39m",
      "\u001b[31mKeyError\u001b[39m                                  Traceback (most recent call last)",
      "\u001b[36mFile \u001b[39m\u001b[32m~/Library/Caches/pypoetry/virtualenvs/forecast-sales-IUy_ksx--py3.12/lib/python3.12/site-packages/pandas/core/indexes/base.py:3812\u001b[39m, in \u001b[36mIndex.get_loc\u001b[39m\u001b[34m(self, key)\u001b[39m\n\u001b[32m   3811\u001b[39m \u001b[38;5;28;01mtry\u001b[39;00m:\n\u001b[32m-> \u001b[39m\u001b[32m3812\u001b[39m     \u001b[38;5;28;01mreturn\u001b[39;00m \u001b[38;5;28;43mself\u001b[39;49m\u001b[43m.\u001b[49m\u001b[43m_engine\u001b[49m\u001b[43m.\u001b[49m\u001b[43mget_loc\u001b[49m\u001b[43m(\u001b[49m\u001b[43mcasted_key\u001b[49m\u001b[43m)\u001b[49m\n\u001b[32m   3813\u001b[39m \u001b[38;5;28;01mexcept\u001b[39;00m \u001b[38;5;167;01mKeyError\u001b[39;00m \u001b[38;5;28;01mas\u001b[39;00m err:\n",
      "\u001b[36mFile \u001b[39m\u001b[32mpandas/_libs/index.pyx:167\u001b[39m, in \u001b[36mpandas._libs.index.IndexEngine.get_loc\u001b[39m\u001b[34m()\u001b[39m\n",
      "\u001b[36mFile \u001b[39m\u001b[32mpandas/_libs/index.pyx:196\u001b[39m, in \u001b[36mpandas._libs.index.IndexEngine.get_loc\u001b[39m\u001b[34m()\u001b[39m\n",
      "\u001b[36mFile \u001b[39m\u001b[32mpandas/_libs/hashtable_class_helper.pxi:7088\u001b[39m, in \u001b[36mpandas._libs.hashtable.PyObjectHashTable.get_item\u001b[39m\u001b[34m()\u001b[39m\n",
      "\u001b[36mFile \u001b[39m\u001b[32mpandas/_libs/hashtable_class_helper.pxi:7096\u001b[39m, in \u001b[36mpandas._libs.hashtable.PyObjectHashTable.get_item\u001b[39m\u001b[34m()\u001b[39m\n",
      "\u001b[31mKeyError\u001b[39m: 'sku_mean'",
      "\nThe above exception was the direct cause of the following exception:\n",
      "\u001b[31mKeyError\u001b[39m                                  Traceback (most recent call last)",
      "\u001b[36mCell\u001b[39m\u001b[36m \u001b[39m\u001b[32mIn[28]\u001b[39m\u001b[32m, line 6\u001b[39m\n\u001b[32m      1\u001b[39m sku_mean = train.groupby(\u001b[33m'\u001b[39m\u001b[33msku_id\u001b[39m\u001b[33m'\u001b[39m)[\u001b[33m'\u001b[39m\u001b[33msales_quantity\u001b[39m\u001b[33m'\u001b[39m] \\\n\u001b[32m      2\u001b[39m                 .mean() \\\n\u001b[32m      3\u001b[39m                 .rename(\u001b[33m'\u001b[39m\u001b[33msku_mean\u001b[39m\u001b[33m'\u001b[39m)\n\u001b[32m      5\u001b[39m df = df.merge(sku_mean, on=\u001b[33m'\u001b[39m\u001b[33msku_id\u001b[39m\u001b[33m'\u001b[39m, how=\u001b[33m'\u001b[39m\u001b[33mleft\u001b[39m\u001b[33m'\u001b[39m) \u001b[38;5;66;03m# For next steps\u001b[39;00m\n\u001b[32m----> \u001b[39m\u001b[32m6\u001b[39m df[\u001b[33m'\u001b[39m\u001b[33msku_mean\u001b[39m\u001b[33m'\u001b[39m] = \u001b[43mdf\u001b[49m\u001b[43m[\u001b[49m\u001b[33;43m'\u001b[39;49m\u001b[33;43msku_mean\u001b[39;49m\u001b[33;43m'\u001b[39;49m\u001b[43m]\u001b[49m.fillna(\u001b[32m0\u001b[39m)\n\u001b[32m      8\u001b[39m train = train.merge(sku_mean, on=\u001b[33m'\u001b[39m\u001b[33msku_id\u001b[39m\u001b[33m'\u001b[39m, how=\u001b[33m'\u001b[39m\u001b[33mleft\u001b[39m\u001b[33m'\u001b[39m) \u001b[38;5;66;03m# For next steps\u001b[39;00m\n\u001b[32m      9\u001b[39m train[\u001b[33m'\u001b[39m\u001b[33msku_mean\u001b[39m\u001b[33m'\u001b[39m] = train[\u001b[33m'\u001b[39m\u001b[33msku_mean\u001b[39m\u001b[33m'\u001b[39m].fillna(\u001b[32m0\u001b[39m)\n",
      "\u001b[36mFile \u001b[39m\u001b[32m~/Library/Caches/pypoetry/virtualenvs/forecast-sales-IUy_ksx--py3.12/lib/python3.12/site-packages/pandas/core/frame.py:4107\u001b[39m, in \u001b[36mDataFrame.__getitem__\u001b[39m\u001b[34m(self, key)\u001b[39m\n\u001b[32m   4105\u001b[39m \u001b[38;5;28;01mif\u001b[39;00m \u001b[38;5;28mself\u001b[39m.columns.nlevels > \u001b[32m1\u001b[39m:\n\u001b[32m   4106\u001b[39m     \u001b[38;5;28;01mreturn\u001b[39;00m \u001b[38;5;28mself\u001b[39m._getitem_multilevel(key)\n\u001b[32m-> \u001b[39m\u001b[32m4107\u001b[39m indexer = \u001b[38;5;28;43mself\u001b[39;49m\u001b[43m.\u001b[49m\u001b[43mcolumns\u001b[49m\u001b[43m.\u001b[49m\u001b[43mget_loc\u001b[49m\u001b[43m(\u001b[49m\u001b[43mkey\u001b[49m\u001b[43m)\u001b[49m\n\u001b[32m   4108\u001b[39m \u001b[38;5;28;01mif\u001b[39;00m is_integer(indexer):\n\u001b[32m   4109\u001b[39m     indexer = [indexer]\n",
      "\u001b[36mFile \u001b[39m\u001b[32m~/Library/Caches/pypoetry/virtualenvs/forecast-sales-IUy_ksx--py3.12/lib/python3.12/site-packages/pandas/core/indexes/base.py:3819\u001b[39m, in \u001b[36mIndex.get_loc\u001b[39m\u001b[34m(self, key)\u001b[39m\n\u001b[32m   3814\u001b[39m     \u001b[38;5;28;01mif\u001b[39;00m \u001b[38;5;28misinstance\u001b[39m(casted_key, \u001b[38;5;28mslice\u001b[39m) \u001b[38;5;129;01mor\u001b[39;00m (\n\u001b[32m   3815\u001b[39m         \u001b[38;5;28misinstance\u001b[39m(casted_key, abc.Iterable)\n\u001b[32m   3816\u001b[39m         \u001b[38;5;129;01mand\u001b[39;00m \u001b[38;5;28many\u001b[39m(\u001b[38;5;28misinstance\u001b[39m(x, \u001b[38;5;28mslice\u001b[39m) \u001b[38;5;28;01mfor\u001b[39;00m x \u001b[38;5;129;01min\u001b[39;00m casted_key)\n\u001b[32m   3817\u001b[39m     ):\n\u001b[32m   3818\u001b[39m         \u001b[38;5;28;01mraise\u001b[39;00m InvalidIndexError(key)\n\u001b[32m-> \u001b[39m\u001b[32m3819\u001b[39m     \u001b[38;5;28;01mraise\u001b[39;00m \u001b[38;5;167;01mKeyError\u001b[39;00m(key) \u001b[38;5;28;01mfrom\u001b[39;00m\u001b[38;5;250m \u001b[39m\u001b[34;01merr\u001b[39;00m\n\u001b[32m   3820\u001b[39m \u001b[38;5;28;01mexcept\u001b[39;00m \u001b[38;5;167;01mTypeError\u001b[39;00m:\n\u001b[32m   3821\u001b[39m     \u001b[38;5;66;03m# If we have a listlike key, _check_indexing_error will raise\u001b[39;00m\n\u001b[32m   3822\u001b[39m     \u001b[38;5;66;03m#  InvalidIndexError. Otherwise we fall through and re-raise\u001b[39;00m\n\u001b[32m   3823\u001b[39m     \u001b[38;5;66;03m#  the TypeError.\u001b[39;00m\n\u001b[32m   3824\u001b[39m     \u001b[38;5;28mself\u001b[39m._check_indexing_error(key)\n",
      "\u001b[31mKeyError\u001b[39m: 'sku_mean'"
     ]
    }
   ],
   "source": [
    "sku_mean = train.groupby('sku_id')['sales_quantity'] \\\n",
    "                .mean() \\\n",
    "                .rename('sku_mean')\n",
    "                \n",
    "df = df.merge(sku_mean, on='sku_id', how='left') # For next steps\n",
    "df['sku_mean'] = df['sku_mean'].fillna(0)\n",
    "\n",
    "train = train.merge(sku_mean, on='sku_id', how='left') # For next steps\n",
    "train['sku_mean'] = train['sku_mean'].fillna(0)\n",
    "\n",
    "test = test.merge(sku_mean, on='sku_id', how='left')\n",
    "test['sku_mean'] = test['sku_mean'].fillna(0)"
   ]
  },
  {
   "cell_type": "code",
   "execution_count": 29,
   "id": "d65f0195",
   "metadata": {},
   "outputs": [
    {
     "name": "stdout",
     "output_type": "stream",
     "text": [
      "Baseline MAE (per‑SKU mean): 2.962\n"
     ]
    }
   ],
   "source": [
    "y_test = test['sales_quantity']\n",
    "y_pred_baseline = test['sku_mean']\n",
    "mae_baseline = mean_absolute_error(y_test, y_pred_baseline)\n",
    "print(f\"Baseline MAE (per‑SKU mean): {mae_baseline:.3f}\")"
   ]
  },
  {
   "cell_type": "markdown",
   "id": "3006fcd4",
   "metadata": {},
   "source": [
    "# 2 Dummy Catboost: only categorical features"
   ]
  },
  {
   "cell_type": "code",
   "execution_count": 6,
   "id": "109d16a6",
   "metadata": {},
   "outputs": [
    {
     "name": "stdout",
     "output_type": "stream",
     "text": [
      "0:\tlearn: 204.0614719\ttest: 15.9623055\tbest: 15.9623055 (0)\ttotal: 72.1ms\tremaining: 21.6s\n",
      "50:\tlearn: 136.9210838\ttest: 11.3783145\tbest: 11.3783145 (50)\ttotal: 456ms\tremaining: 2.23s\n",
      "100:\tlearn: 101.2349673\ttest: 9.5586103\tbest: 9.5586103 (100)\ttotal: 813ms\tremaining: 1.6s\n",
      "150:\tlearn: 84.1340903\ttest: 9.1264650\tbest: 9.1264650 (150)\ttotal: 1.23s\tremaining: 1.21s\n",
      "200:\tlearn: 76.6818679\ttest: 9.1739435\tbest: 9.1049467 (167)\ttotal: 1.59s\tremaining: 785ms\n",
      "Stopped by overfitting detector  (50 iterations wait)\n",
      "\n",
      "bestTest = 9.104946659\n",
      "bestIteration = 167\n",
      "\n",
      "Shrink model to first 168 iterations.\n",
      "Dummy CatBoost MAE: 4.923\n"
     ]
    }
   ],
   "source": [
    "features_dummy = cat_features\n",
    "X_train_d, y_train_d = train[features_dummy], train['sales_quantity']\n",
    "X_test_d,  y_test_d  = test [features_dummy], test ['sales_quantity']\n",
    "\n",
    "train_pool_d = Pool(X_train_d, y_train_d, cat_features=cat_features)\n",
    "test_pool_d  = Pool(X_test_d,  y_test_d,  cat_features=cat_features)\n",
    "\n",
    "model_dummy = CatBoostRegressor(\n",
    "    iterations=300,\n",
    "    learning_rate=0.01,\n",
    "    depth=5,\n",
    "    # one_hot_max_size=len(df['sku_id'].unique()), \n",
    "    random_seed=42,\n",
    "    early_stopping_rounds=50,\n",
    "    verbose=50\n",
    ")\n",
    "model_dummy.fit(train_pool_d, eval_set=test_pool_d, use_best_model=True)\n",
    "\n",
    "y_pred_dummy = model_dummy.predict(X_test_d)\n",
    "mae_dummy  = mean_absolute_error(y_test_d, y_pred_dummy)\n",
    "print(f\"Dummy CatBoost MAE: {mae_dummy:.3f}\")"
   ]
  },
  {
   "cell_type": "markdown",
   "id": "14777d9b",
   "metadata": {},
   "source": [
    "### 3 Catboost with numeric features"
   ]
  },
  {
   "cell_type": "code",
   "execution_count": null,
   "id": "61c31f89",
   "metadata": {},
   "outputs": [
    {
     "name": "stdout",
     "output_type": "stream",
     "text": [
      "0:\tlearn: 196.5268951\ttest: 15.4027708\tbest: 15.4027708 (0)\ttotal: 21.5ms\tremaining: 10.7s\n",
      "50:\tlearn: 55.9760347\ttest: 7.6966445\tbest: 7.6934106 (49)\ttotal: 892ms\tremaining: 7.85s\n",
      "100:\tlearn: 50.0556349\ttest: 7.1338949\tbest: 7.1338949 (100)\ttotal: 1.87s\tremaining: 7.38s\n",
      "150:\tlearn: 47.6353468\ttest: 6.7440433\tbest: 6.7376364 (141)\ttotal: 2.85s\tremaining: 6.58s\n",
      "200:\tlearn: 45.5044069\ttest: 6.5826828\tbest: 6.5824326 (198)\ttotal: 3.89s\tremaining: 5.78s\n",
      "250:\tlearn: 43.6914806\ttest: 6.5364573\tbest: 6.5354063 (237)\ttotal: 4.84s\tremaining: 4.8s\n",
      "300:\tlearn: 42.5765194\ttest: 6.4593000\tbest: 6.4572052 (285)\ttotal: 5.77s\tremaining: 3.81s\n",
      "350:\tlearn: 41.4892256\ttest: 6.4641912\tbest: 6.4469409 (348)\ttotal: 6.67s\tremaining: 2.83s\n",
      "400:\tlearn: 40.5001375\ttest: 6.4022068\tbest: 6.4020295 (390)\ttotal: 7.66s\tremaining: 1.89s\n",
      "450:\tlearn: 39.6119025\ttest: 6.3584105\tbest: 6.3583923 (448)\ttotal: 8.59s\tremaining: 933ms\n",
      "499:\tlearn: 38.8037863\ttest: 6.2973773\tbest: 6.2973773 (499)\ttotal: 9.48s\tremaining: 0us\n",
      "\n",
      "bestTest = 6.297377251\n",
      "bestIteration = 499\n",
      "\n",
      "Full CatBoost MAE with extra features: 2.912\n",
      "\n"
     ]
    }
   ],
   "source": [
    "num_features = ['sku_mean','sales_price','lag_1','lag_7','roll7_mean']\n",
    "features_all = cat_features + num_features\n",
    "\n",
    "X_train, y_train = train[features_all], train['sales_quantity']\n",
    "X_test, y_test = test [features_all], test ['sales_quantity']\n",
    "\n",
    "train_pool = Pool(X_train, y_train, cat_features=cat_features)\n",
    "test_pool = Pool(X_test, y_test, cat_features=cat_features)\n",
    "\n",
    "model_full = CatBoostRegressor(\n",
    "    iterations=500,\n",
    "    learning_rate=0.05,\n",
    "    depth=6,\n",
    "    random_seed=42,\n",
    "    early_stopping_rounds=50,\n",
    "    verbose=50\n",
    ")\n",
    "model_full.fit(train_pool, eval_set=test_pool, use_best_model=True)\n",
    "\n",
    "y_pred_full = model_full.predict(X_test)\n",
    "mae_full   = mean_absolute_error(y_test, y_pred_full)\n",
    "print(f\"Full CatBoost MAE with extra features: {mae_full:.3f}\\n\")"
   ]
  },
  {
   "cell_type": "code",
   "execution_count": null,
   "id": "caf95c98",
   "metadata": {},
   "outputs": [],
   "source": []
  }
 ],
 "metadata": {
  "kernelspec": {
   "display_name": "forecast-sales-IUy_ksx--py3.12",
   "language": "python",
   "name": "python3"
  },
  "language_info": {
   "codemirror_mode": {
    "name": "ipython",
    "version": 3
   },
   "file_extension": ".py",
   "mimetype": "text/x-python",
   "name": "python",
   "nbconvert_exporter": "python",
   "pygments_lexer": "ipython3",
   "version": "3.12.4"
  }
 },
 "nbformat": 4,
 "nbformat_minor": 5
}
