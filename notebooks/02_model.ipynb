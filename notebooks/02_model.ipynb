{
 "cells": [
  {
   "cell_type": "code",
   "execution_count": 1,
   "id": "1baae911",
   "metadata": {},
   "outputs": [],
   "source": [
    "import pandas as pd\n",
    "from catboost import CatBoostRegressor, Pool\n",
    "from sklearn.metrics import mean_absolute_error"
   ]
  },
  {
   "cell_type": "markdown",
   "id": "4bfcfb43",
   "metadata": {},
   "source": [
    "# 1 Load data"
   ]
  },
  {
   "cell_type": "code",
   "execution_count": 2,
   "id": "dc658043",
   "metadata": {},
   "outputs": [],
   "source": [
    "df = pd.read_csv(\"../data/raw/df.csv\", index_col=0, parse_dates=['date'])\n",
    "df = df.sort_values('date')"
   ]
  },
  {
   "cell_type": "markdown",
   "id": "c380923b",
   "metadata": {},
   "source": [
    "# 2 Feature engineering"
   ]
  },
  {
   "cell_type": "code",
   "execution_count": 3,
   "id": "4fee9226",
   "metadata": {},
   "outputs": [],
   "source": [
    "# 2.1 Categorical\n",
    "df['dayofweek'] = df['date'].dt.dayofweek.astype('category')\n",
    "cat_features = ['sku_id', 'category_id', 'dayofweek']\n",
    "if 'is_holiday_or_adjacent' in df.columns:\n",
    "    df['is_holiday_or_adjacent'] = df['is_holiday_or_adjacent'].astype('category')\n",
    "    cat_features.append('is_holiday_or_adjacent')\n",
    "\n",
    "# 2.2 Numeric\n",
    "df['sales_price'] = df['sales_price'].astype(float)\n",
    "\n",
    "# 2.3 Lags & rolling stats (per SKU)\n",
    "df = df.sort_values(['sku_id','date'])\n",
    "grp = df.groupby('sku_id')['sales_quantity']\n",
    "df['lag_1']      = grp.shift(1).fillna(0)\n",
    "df['lag_7']      = grp.shift(7).fillna(0)\n",
    "df['roll7_mean'] = grp.shift(1).rolling(7, min_periods=1).mean().fillna(0)"
   ]
  },
  {
   "cell_type": "markdown",
   "id": "7e613387",
   "metadata": {},
   "source": [
    "# 3 Train/Test split"
   ]
  },
  {
   "cell_type": "code",
   "execution_count": 4,
   "id": "82508e6e",
   "metadata": {},
   "outputs": [],
   "source": [
    "cut_date = df['date'].quantile(0.8)\n",
    "train = df[df['date'] <= cut_date].copy()\n",
    "test  = df[df['date'] >  cut_date].copy()"
   ]
  },
  {
   "cell_type": "markdown",
   "id": "2d49c073",
   "metadata": {},
   "source": [
    "# 4 Baseline: mean"
   ]
  },
  {
   "cell_type": "code",
   "execution_count": 5,
   "id": "cea58e4b",
   "metadata": {},
   "outputs": [
    {
     "name": "stdout",
     "output_type": "stream",
     "text": [
      "Baseline MAE (per‑SKU mean): 2.766\n",
      "\n"
     ]
    }
   ],
   "source": [
    "sku_mean = train.groupby('sku_id')['sales_quantity'] \\\n",
    "                .mean() \\\n",
    "                .rename('sku_mean')\n",
    "\n",
    "df = df.merge(sku_mean, on='sku_id', how='left')\n",
    "df['sku_mean'] = df['sku_mean'].fillna(0)\n",
    "\n",
    "train = train.merge(sku_mean, on='sku_id', how='left')\n",
    "test  = test .merge(sku_mean, on='sku_id', how='left')\n",
    "\n",
    "train['sku_mean'] = train['sku_mean'].fillna(0)\n",
    "test ['sku_mean'] = test ['sku_mean'].fillna(0)\n",
    "\n",
    "y_test = test['sales_quantity']\n",
    "y_pred_baseline = test['sku_mean']\n",
    "mae_baseline = mean_absolute_error(y_test, y_pred_baseline)\n",
    "print(f\"Baseline MAE (per‑SKU mean): {mae_baseline:.3f}\\n\")"
   ]
  },
  {
   "cell_type": "markdown",
   "id": "3006fcd4",
   "metadata": {},
   "source": [
    "### 2 Dummy Catboost"
   ]
  },
  {
   "cell_type": "code",
   "execution_count": 6,
   "id": "109d16a6",
   "metadata": {},
   "outputs": [
    {
     "name": "stdout",
     "output_type": "stream",
     "text": [
      "0:\tlearn: 203.9717897\ttest: 16.3483745\tbest: 16.3483745 (0)\ttotal: 59.5ms\tremaining: 17.8s\n",
      "50:\tlearn: 136.2841746\ttest: 11.8420518\tbest: 11.8420518 (50)\ttotal: 195ms\tremaining: 951ms\n",
      "100:\tlearn: 100.3182220\ttest: 9.7127731\tbest: 9.7127731 (100)\ttotal: 334ms\tremaining: 659ms\n",
      "150:\tlearn: 83.1300644\ttest: 8.8335611\tbest: 8.8335611 (150)\ttotal: 473ms\tremaining: 467ms\n",
      "200:\tlearn: 75.7406680\ttest: 8.4990313\tbest: 8.4990313 (200)\ttotal: 626ms\tremaining: 308ms\n",
      "250:\tlearn: 72.7806303\ttest: 8.3783140\tbest: 8.3783140 (250)\ttotal: 795ms\tremaining: 155ms\n",
      "299:\tlearn: 71.6455571\ttest: 8.3284052\tbest: 8.3284052 (299)\ttotal: 980ms\tremaining: 0us\n",
      "\n",
      "bestTest = 8.328405246\n",
      "bestIteration = 299\n",
      "\n",
      "Dummy CatBoost MAE: 4.057\n",
      "\n"
     ]
    }
   ],
   "source": [
    "features_dummy = cat_features\n",
    "X_train_d, y_train_d = train[features_dummy], train['sales_quantity']\n",
    "X_test_d,  y_test_d  = test [features_dummy], test ['sales_quantity']\n",
    "\n",
    "train_pool_d = Pool(X_train_d, y_train_d, cat_features=cat_features)\n",
    "test_pool_d  = Pool(X_test_d,  y_test_d,  cat_features=cat_features)\n",
    "\n",
    "model_dummy = CatBoostRegressor(\n",
    "    iterations=300,\n",
    "    learning_rate=0.01,\n",
    "    depth=5,\n",
    "    one_hot_max_size=len(df['sku_id'].unique()), \n",
    "    random_seed=42,\n",
    "    early_stopping_rounds=50,\n",
    "    verbose=50\n",
    ")\n",
    "model_dummy.fit(train_pool_d, eval_set=test_pool_d, use_best_model=True)\n",
    "\n",
    "y_pred_dummy = model_dummy.predict(X_test_d)\n",
    "mae_dummy  = mean_absolute_error(y_test_d, y_pred_dummy)\n",
    "print(f\"Dummy CatBoost MAE: {mae_dummy:.3f}\\n\")"
   ]
  },
  {
   "cell_type": "markdown",
   "id": "14777d9b",
   "metadata": {},
   "source": [
    "### 3 Catboost with numeric features"
   ]
  },
  {
   "cell_type": "code",
   "execution_count": 7,
   "id": "61c31f89",
   "metadata": {},
   "outputs": [
    {
     "name": "stdout",
     "output_type": "stream",
     "text": [
      "0:\tlearn: 196.5532413\ttest: 15.8696157\tbest: 15.8696157 (0)\ttotal: 24.2ms\tremaining: 12.1s\n",
      "50:\tlearn: 48.0238659\ttest: 7.4426307\tbest: 7.4426307 (50)\ttotal: 1.01s\tremaining: 8.9s\n",
      "100:\tlearn: 42.0370508\ttest: 5.8443629\tbest: 5.8443629 (100)\ttotal: 2.11s\tremaining: 8.35s\n",
      "150:\tlearn: 40.1841298\ttest: 5.1756651\tbest: 5.1756214 (149)\ttotal: 3s\tremaining: 6.93s\n",
      "200:\tlearn: 38.7202594\ttest: 5.0048621\tbest: 5.0048621 (200)\ttotal: 4.01s\tremaining: 5.97s\n",
      "250:\tlearn: 37.2224326\ttest: 4.9566585\tbest: 4.9561121 (248)\ttotal: 5s\tremaining: 4.96s\n",
      "300:\tlearn: 35.9350690\ttest: 4.9541178\tbest: 4.9497781 (267)\ttotal: 5.91s\tremaining: 3.9s\n",
      "Stopped by overfitting detector  (50 iterations wait)\n",
      "\n",
      "bestTest = 4.949778061\n",
      "bestIteration = 267\n",
      "\n",
      "Shrink model to first 268 iterations.\n",
      "Full CatBoost MAE with extra features: 2.316\n",
      "\n"
     ]
    }
   ],
   "source": [
    "num_features = ['sku_mean','sales_price','lag_1','lag_7','roll7_mean']\n",
    "features_all = cat_features + num_features\n",
    "\n",
    "X_train, y_train = train[features_all], train['sales_quantity']\n",
    "X_test,  y_test  = test [features_all], test ['sales_quantity']\n",
    "\n",
    "train_pool = Pool(X_train, y_train, cat_features=cat_features)\n",
    "test_pool  = Pool(X_test,  y_test,  cat_features=cat_features)\n",
    "\n",
    "model_full = CatBoostRegressor(\n",
    "    iterations=500,\n",
    "    learning_rate=0.05,\n",
    "    depth=6,\n",
    "    random_seed=42,\n",
    "    early_stopping_rounds=50,\n",
    "    verbose=50\n",
    ")\n",
    "model_full.fit(train_pool, eval_set=test_pool, use_best_model=True)\n",
    "\n",
    "y_pred_full = model_full.predict(X_test)\n",
    "mae_full   = mean_absolute_error(y_test, y_pred_full)\n",
    "print(f\"Full CatBoost MAE with extra features: {mae_full:.3f}\\n\")"
   ]
  }
 ],
 "metadata": {
  "kernelspec": {
   "display_name": "forecast-sales-IUy_ksx--py3.12",
   "language": "python",
   "name": "python3"
  },
  "language_info": {
   "codemirror_mode": {
    "name": "ipython",
    "version": 3
   },
   "file_extension": ".py",
   "mimetype": "text/x-python",
   "name": "python",
   "nbconvert_exporter": "python",
   "pygments_lexer": "ipython3",
   "version": "3.12.4"
  }
 },
 "nbformat": 4,
 "nbformat_minor": 5
}
