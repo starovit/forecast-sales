{
 "cells": [
  {
   "cell_type": "code",
   "execution_count": 84,
   "id": "1baae911",
   "metadata": {},
   "outputs": [],
   "source": [
    "import pandas as pd\n",
    "import numpy as np\n",
    "import matplotlib.pyplot as plt\n",
    "import seaborn as sns\n",
    "from tqdm.notebook import tqdm"
   ]
  },
  {
   "cell_type": "markdown",
   "id": "6dafe7c3",
   "metadata": {},
   "source": [
    "### 1 Read data"
   ]
  },
  {
   "cell_type": "code",
   "execution_count": 85,
   "id": "828e5288",
   "metadata": {},
   "outputs": [],
   "source": [
    "df = pd.read_csv(\"../data/raw/df.csv\", index_col=0)"
   ]
  },
  {
   "cell_type": "markdown",
   "id": "9be0a94e",
   "metadata": {},
   "source": [
    "### 2 EDA"
   ]
  },
  {
   "cell_type": "markdown",
   "id": "f8c0c90c",
   "metadata": {},
   "source": [
    "**Features description:**\n",
    "- date — Date of sale.\n",
    "- sku_id — Stock Keeping Unit; unique identifier for each product.\n",
    "- sales_quantity — Number of units sold on that date.\n",
    "- sales_price — Average sales price per unit on that date.\n",
    "- category_id — Category code of the product."
   ]
  },
  {
   "cell_type": "markdown",
   "id": "1294378d",
   "metadata": {},
   "source": [
    "#### 2.1 General information"
   ]
  },
  {
   "cell_type": "code",
   "execution_count": 86,
   "id": "ee7548c8",
   "metadata": {},
   "outputs": [
    {
     "data": {
      "text/html": [
       "<div>\n",
       "<style scoped>\n",
       "    .dataframe tbody tr th:only-of-type {\n",
       "        vertical-align: middle;\n",
       "    }\n",
       "\n",
       "    .dataframe tbody tr th {\n",
       "        vertical-align: top;\n",
       "    }\n",
       "\n",
       "    .dataframe thead th {\n",
       "        text-align: right;\n",
       "    }\n",
       "</style>\n",
       "<table border=\"1\" class=\"dataframe\">\n",
       "  <thead>\n",
       "    <tr style=\"text-align: right;\">\n",
       "      <th></th>\n",
       "      <th>date</th>\n",
       "      <th>category_id</th>\n",
       "      <th>sku_id</th>\n",
       "      <th>sales_price</th>\n",
       "      <th>sales_quantity</th>\n",
       "    </tr>\n",
       "  </thead>\n",
       "  <tbody>\n",
       "    <tr>\n",
       "      <th>78161</th>\n",
       "      <td>2016-11-25</td>\n",
       "      <td>7</td>\n",
       "      <td>1108</td>\n",
       "      <td>457.6</td>\n",
       "      <td>1.0</td>\n",
       "    </tr>\n",
       "    <tr>\n",
       "      <th>81079</th>\n",
       "      <td>2016-11-18</td>\n",
       "      <td>7</td>\n",
       "      <td>2999</td>\n",
       "      <td>470.6</td>\n",
       "      <td>1.0</td>\n",
       "    </tr>\n",
       "    <tr>\n",
       "      <th>81177</th>\n",
       "      <td>2016-11-18</td>\n",
       "      <td>7</td>\n",
       "      <td>1428</td>\n",
       "      <td>717.6</td>\n",
       "      <td>1.0</td>\n",
       "    </tr>\n",
       "  </tbody>\n",
       "</table>\n",
       "</div>"
      ],
      "text/plain": [
       "             date  category_id  sku_id  sales_price  sales_quantity\n",
       "78161  2016-11-25            7    1108        457.6             1.0\n",
       "81079  2016-11-18            7    2999        470.6             1.0\n",
       "81177  2016-11-18            7    1428        717.6             1.0"
      ]
     },
     "metadata": {},
     "output_type": "display_data"
    },
    {
     "data": {
      "text/html": [
       "<div>\n",
       "<style scoped>\n",
       "    .dataframe tbody tr th:only-of-type {\n",
       "        vertical-align: middle;\n",
       "    }\n",
       "\n",
       "    .dataframe tbody tr th {\n",
       "        vertical-align: top;\n",
       "    }\n",
       "\n",
       "    .dataframe thead th {\n",
       "        text-align: right;\n",
       "    }\n",
       "</style>\n",
       "<table border=\"1\" class=\"dataframe\">\n",
       "  <thead>\n",
       "    <tr style=\"text-align: right;\">\n",
       "      <th></th>\n",
       "      <th>date</th>\n",
       "      <th>category_id</th>\n",
       "      <th>sku_id</th>\n",
       "      <th>sales_price</th>\n",
       "      <th>sales_quantity</th>\n",
       "    </tr>\n",
       "  </thead>\n",
       "  <tbody>\n",
       "    <tr>\n",
       "      <th>20778611</th>\n",
       "      <td>2020-10-14</td>\n",
       "      <td>7</td>\n",
       "      <td>723588</td>\n",
       "      <td>401.7</td>\n",
       "      <td>3.0</td>\n",
       "    </tr>\n",
       "    <tr>\n",
       "      <th>20779790</th>\n",
       "      <td>2020-10-17</td>\n",
       "      <td>7</td>\n",
       "      <td>792124</td>\n",
       "      <td>778.7</td>\n",
       "      <td>1.0</td>\n",
       "    </tr>\n",
       "    <tr>\n",
       "      <th>20794630</th>\n",
       "      <td>2020-10-23</td>\n",
       "      <td>7</td>\n",
       "      <td>798049</td>\n",
       "      <td>219.7</td>\n",
       "      <td>1.0</td>\n",
       "    </tr>\n",
       "  </tbody>\n",
       "</table>\n",
       "</div>"
      ],
      "text/plain": [
       "                date  category_id  sku_id  sales_price  sales_quantity\n",
       "20778611  2020-10-14            7  723588        401.7             3.0\n",
       "20779790  2020-10-17            7  792124        778.7             1.0\n",
       "20794630  2020-10-23            7  798049        219.7             1.0"
      ]
     },
     "metadata": {},
     "output_type": "display_data"
    }
   ],
   "source": [
    "# Show data\n",
    "display(df.head(3))\n",
    "display(df.tail(3))"
   ]
  },
  {
   "cell_type": "code",
   "execution_count": 87,
   "id": "100f4851",
   "metadata": {},
   "outputs": [],
   "source": [
    "# Date to datatime format\n",
    "df[\"date\"] = pd.to_datetime(df[\"date\"])\n",
    "\n",
    "# Sort by date and reset index\n",
    "df = df.sort_values(\"date\").reset_index(drop=True)"
   ]
  },
  {
   "cell_type": "code",
   "execution_count": 88,
   "id": "78ce1e75",
   "metadata": {},
   "outputs": [
    {
     "name": "stdout",
     "output_type": "stream",
     "text": [
      "Shape: (226486, 5)\n",
      "DataTypes:\n",
      "date              datetime64[ns]\n",
      "category_id                int64\n",
      "sku_id                     int64\n",
      "sales_price              float64\n",
      "sales_quantity           float64\n",
      "dtype: object\n"
     ]
    }
   ],
   "source": [
    "print(\"Shape:\", df.shape)\n",
    "print(\"DataTypes:\")\n",
    "print(df.dtypes)"
   ]
  },
  {
   "cell_type": "code",
   "execution_count": 98,
   "id": "a3c9b8aa",
   "metadata": {},
   "outputs": [
    {
     "name": "stdout",
     "output_type": "stream",
     "text": [
      "Unique values per column:\n",
      "date              1420\n",
      "category_id          3\n",
      "sku_id            1059\n",
      "sales_price       1373\n",
      "sales_quantity     979\n",
      "dtype: int64\n"
     ]
    }
   ],
   "source": [
    "print(\"Unique values per column:\")\n",
    "print(df.nunique())"
   ]
  },
  {
   "cell_type": "code",
   "execution_count": 89,
   "id": "ce8c74ca",
   "metadata": {},
   "outputs": [
    {
     "name": "stdout",
     "output_type": "stream",
     "text": [
      "Missing values:\n"
     ]
    },
    {
     "data": {
      "text/plain": [
       "date              0\n",
       "category_id       0\n",
       "sku_id            0\n",
       "sales_price       0\n",
       "sales_quantity    0\n",
       "dtype: int64"
      ]
     },
     "execution_count": 89,
     "metadata": {},
     "output_type": "execute_result"
    }
   ],
   "source": [
    "print(\"Missing values:\")\n",
    "df.isnull().sum()"
   ]
  },
  {
   "cell_type": "code",
   "execution_count": 90,
   "id": "baec5f05",
   "metadata": {},
   "outputs": [
    {
     "name": "stdout",
     "output_type": "stream",
     "text": [
      "Duplicate rows: 0\n",
      "Unique dates: 1420\n"
     ]
    }
   ],
   "source": [
    "print(\"Duplicate rows:\", df.duplicated().sum())\n",
    "print(\"Unique dates:\", df['date'].nunique())"
   ]
  },
  {
   "cell_type": "code",
   "execution_count": 91,
   "id": "86c2f8f5",
   "metadata": {
    "scrolled": true
   },
   "outputs": [
    {
     "name": "stdout",
     "output_type": "stream",
     "text": [
      "Min date: 2016-11-18 00:00:00\n",
      "Max date: 2020-10-31 00:00:00\n"
     ]
    }
   ],
   "source": [
    "print(\"Min date:\", df[\"date\"].min())\n",
    "print(\"Max date:\", df[\"date\"].max())"
   ]
  },
  {
   "cell_type": "markdown",
   "id": "4f022773",
   "metadata": {},
   "source": [
    "### 2.2 "
   ]
  },
  {
   "cell_type": "code",
   "execution_count": null,
   "id": "1007d85e",
   "metadata": {},
   "outputs": [],
   "source": []
  }
 ],
 "metadata": {
  "kernelspec": {
   "display_name": "Python (forecast-sales)",
   "language": "python",
   "name": "forecast-sales"
  },
  "language_info": {
   "codemirror_mode": {
    "name": "ipython",
    "version": 3
   },
   "file_extension": ".py",
   "mimetype": "text/x-python",
   "name": "python",
   "nbconvert_exporter": "python",
   "pygments_lexer": "ipython3",
   "version": "3.12.4"
  }
 },
 "nbformat": 4,
 "nbformat_minor": 5
}
